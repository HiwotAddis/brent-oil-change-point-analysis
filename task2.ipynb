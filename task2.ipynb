{
 "cells": [
  {
   "cell_type": "markdown",
   "id": "23f8cf1f",
   "metadata": {},
   "source": [
    "## part 2.2 core analysis\n",
    "# Modeling Change Points using PyMC3"
   ]
  },
  {
   "cell_type": "code",
   "execution_count": null,
   "id": "1e30de77",
   "metadata": {},
   "outputs": [],
   "source": [
    "import pandas as pd\n",
    "import numpy as np\n",
    "import pymc3 as pm\n",
    "import matplotlib.pyplot as plt\n",
    "import arviz as az\n",
    "\n",
    "# Load Brent oil prices\n",
    "df = pd.read_csv('BrentOilPrices.csv')\n",
    "df['Date'] = pd.to_datetime(df['Date'], errors='coerce')\n",
    "df.dropna(subset=['Date'], inplace=True)\n",
    "df.set_index('Date', inplace=True)\n",
    "df.sort_index(inplace=True)\n",
    "\n",
    "# Compute log returns\n",
    "df['LogReturn'] = np.log(df['Price']) - np.log(df['Price'].shift(1))\n",
    "returns = df['LogReturn'].dropna().values\n",
    "T = len(returns)\n",
    "\n",
    "# Change point model\n",
    "with pm.Model() as model:\n",
    "    tau = pm.DiscreteUniform('tau', lower=0, upper=T)\n",
    "    \n",
    "    mu_1 = pm.Normal('mu_1', mu=0, sigma=1)\n",
    "    mu_2 = pm.Normal('mu_2', mu=0, sigma=1)\n",
    "    sigma = pm.HalfNormal('sigma', sigma=1)\n",
    "\n",
    "    mu = pm.math.switch(tau > np.arange(T), mu_1, mu_2)\n",
    "    \n",
    "    obs = pm.Normal('obs', mu=mu, sigma=sigma, observed=returns)\n",
    "    \n",
    "    trace = pm.sample(2000, tune=1000, target_accept=0.95, return_inferencedata=True)\n"
   ]
  },
  {
   "cell_type": "markdown",
   "id": "c242eb07",
   "metadata": {},
   "source": [
    "# Interpreting the Output"
   ]
  },
  {
   "cell_type": "code",
   "execution_count": null,
   "id": "7295f417",
   "metadata": {},
   "outputs": [],
   "source": [
    "# Plot trace and posterior\n",
    "az.plot_trace(trace)\n",
    "plt.show()\n",
    "\n",
    "# Summary of the model\n",
    "summary = az.summary(trace)\n",
    "print(summary)\n",
    "\n",
    "# Most probable change point\n",
    "most_likely_tau = int(summary.loc['tau', 'mean'])\n",
    "change_date = df.index[most_likely_tau]\n",
    "print(f\"Most likely change point occurred on: {change_date.date()}\")\n",
    "\n",
    "mu_1 = summary.loc['mu_1', 'mean']\n",
    "mu_2 = summary.loc['mu_2', 'mean']\n",
    "impact_pct = ((mu_2 - mu_1) / abs(mu_1)) * 100\n",
    "\n",
    "print(f\"Relative shift in mean return: {impact_pct:.2f}%\")\n"
   ]
  }
 ],
 "metadata": {
  "kernelspec": {
   "display_name": "base",
   "language": "python",
   "name": "python3"
  },
  "language_info": {
   "codemirror_mode": {
    "name": "ipython",
    "version": 3
   },
   "file_extension": ".py",
   "mimetype": "text/x-python",
   "name": "python",
   "nbconvert_exporter": "python",
   "pygments_lexer": "ipython3",
   "version": "3.13.2"
  }
 },
 "nbformat": 4,
 "nbformat_minor": 5
}
